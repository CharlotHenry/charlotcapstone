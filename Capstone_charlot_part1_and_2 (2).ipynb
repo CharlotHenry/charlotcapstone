{
  "nbformat": 4,
  "nbformat_minor": 0,
  "metadata": {
    "colab": {
      "provenance": []
    },
    "kernelspec": {
      "name": "python3",
      "display_name": "Python 3"
    },
    "language_info": {
      "name": "python"
    }
  },
  "cells": [
    {
      "cell_type": "code",
      "source": [
        "import os\n",
        "import numpy as np\n",
        "import pandas as pd\n",
        "import cv2\n",
        "import matplotlib.pyplot as plt\n",
        "import tensorflow as tf\n",
        "from sklearn.model_selection import train_test_split\n",
        "from tensorflow.keras.models import Model\n",
        "from tensorflow.keras.layers import Dense, Flatten, Input\n",
        "from tensorflow.keras.applications import VGG16\n",
        "from tensorflow.keras.preprocessing.image import load_img, img_to_array\n",
        "from tensorflow.keras.callbacks import EarlyStopping, ModelCheckpoint\n",
        "from sklearn.metrics import confusion_matrix\n",
        "import tensorflow.keras.backend as K\n"
      ],
      "metadata": {
        "id": "V5K4U3vzctpR"
      },
      "execution_count": 1,
      "outputs": []
    },
    {
      "cell_type": "code",
      "source": [
        "# Step 1: Data Preprocessing\n",
        "\n",
        "def load_data(image_dir, annotations_file, img_size=(224, 224)):\n",
        "    # Load CSV annotations file\n",
        "    annotations = pd.read_csv(annotations_file)\n",
        "\n",
        "    images = []\n",
        "    labels = []\n",
        "    boxes = []\n",
        "\n",
        "    for index, row in annotations.iterrows():\n",
        "        img_path = os.path.join(image_dir, row['filename'])\n",
        "        img = load_img(img_path, target_size=img_size)\n",
        "        img = img_to_array(img)\n",
        "        images.append(img)\n",
        "\n",
        "        # Normalizing image\n",
        "        images = np.array(images) / 255.0\n",
        "\n",
        "        labels.append(row['label'])\n",
        "        boxes.append([row['xmin'], row['ymin'], row['xmax'], row['ymax']])\n",
        "\n",
        "    return np.array(images), np.array(labels), np.array(boxes)\n"
      ],
      "metadata": {
        "id": "Bxw1YbQicusw"
      },
      "execution_count": 2,
      "outputs": []
    },
    {
      "cell_type": "code",
      "source": [
        "# Load images and annotations\n",
        "image_dir = 'path_to_images'\n",
        "annotations_file = 'annotations.csv'\n",
        "images, labels, boxes = load_data(image_dir, annotations_file)"
      ],
      "metadata": {
        "collapsed": true,
        "id": "8YQzmCRLc55Y"
      },
      "execution_count": null,
      "outputs": []
    },
    {
      "cell_type": "code",
      "source": [
        "# Step 2: Split Data into Train, Validation, and Test\n",
        "\n",
        "X_train, X_temp, y_train, y_temp = train_test_split(images, labels, test_size=0.2, random_state=42)\n",
        "X_val, X_test, y_val, y_test = train_test_split(X_temp, y_temp, test_size=0.5, random_state=42)\n",
        "\n",
        "# Step 3: Building the Model Using Pretrained VGG16 and Custom Classifier\n",
        "\n",
        "base_model = VGG16(weights='imagenet', include_top=False, input_shape=(224, 224, 3))\n",
        "base_model.trainable = False  # Freeze the convolutional layers\n",
        "\n",
        "inputs = Input(shape=(224, 224, 3))\n",
        "x = base_model(inputs, training=False)\n",
        "x = Flatten()(x)\n",
        "x = Dense(128, activation='relu')(x)\n",
        "x = Dense(64, activation='relu')(x)\n",
        "x = Dense(32, activation='relu')(x)"
      ],
      "metadata": {
        "id": "dlggVBogdB6J"
      },
      "execution_count": null,
      "outputs": []
    },
    {
      "cell_type": "code",
      "source": [
        "# For bounding box prediction\n",
        "bbox_output = Dense(4, name='bbox_output')(x)  # Predicting 4 coordinates for bounding box\n",
        "\n",
        "# For classification (vehicle type prediction)\n",
        "class_output = Dense(len(np.unique(labels)), activation='softmax', name='class_output')(x)\n",
        "\n",
        "model = Model(inputs, [bbox_output, class_output])\n"
      ],
      "metadata": {
        "id": "NWtC-CRjdJzd"
      },
      "execution_count": null,
      "outputs": []
    },
    {
      "cell_type": "code",
      "source": [
        "# Step 4: Compile the Model\n",
        "\n",
        "model.compile(optimizer='adam',\n",
        "              loss={'bbox_output': 'mse', 'class_output': 'sparse_categorical_crossentropy'},\n",
        "              metrics={'bbox_output': 'mae', 'class_output': 'accuracy'})\n",
        "\n",
        "# Step 5: Model Training with Early Stopping and Checkpointing\n",
        "\n",
        "callbacks = [\n",
        "    EarlyStopping(patience=10, restore_best_weights=True),\n",
        "    ModelCheckpoint(\"best_model.h5\", save_best_only=True)\n",
        "]\n",
        "\n",
        "history = model.fit(X_train,\n",
        "                    {'bbox_output': boxes, 'class_output': y_train},\n",
        "                    validation_data=(X_val, {'bbox_output': boxes, 'class_output': y_val}),\n",
        "                    epochs=50,\n",
        "                    callbacks=callbacks)\n"
      ],
      "metadata": {
        "id": "yLeJ2ryodOnX"
      },
      "execution_count": null,
      "outputs": []
    },
    {
      "cell_type": "code",
      "source": [
        "# Step 6: Evaluate the Model on Test Data\n",
        "\n",
        "model.load_weights(\"best_model.h5\")\n",
        "test_loss, test_bbox_loss, test_class_loss, test_bbox_mae, test_class_accuracy = model.evaluate(X_test, {'bbox_output': boxes, 'class_output': y_test})\n",
        "\n",
        "print(f\"Test Loss: {test_loss:.4f}, Test Class Accuracy: {test_class_accuracy:.4f}\")"
      ],
      "metadata": {
        "id": "vshhoAlcdTzX"
      },
      "execution_count": null,
      "outputs": []
    },
    {
      "cell_type": "code",
      "source": [
        "# Step 7: Compute Confusion Matrix\n",
        "\n",
        "y_pred_class = model.predict(X_test)[1]\n",
        "y_pred_class = np.argmax(y_pred_class, axis=1)\n",
        "\n",
        "cm = confusion_matrix(y_test, y_pred_class)\n",
        "print(\"Confusion Matrix:\")\n",
        "print(cm)"
      ],
      "metadata": {
        "id": "q5tyaofFdYoZ"
      },
      "execution_count": null,
      "outputs": []
    },
    {
      "cell_type": "code",
      "source": [
        "# Step 8: Visualize the Predictions with Bounding Boxes\n",
        "\n",
        "def visualize_boxes(image, predicted_boxes, predicted_labels, scores, label_dict):\n",
        "    for i, box in enumerate(predicted_boxes):\n",
        "        cv2.rectangle(image, (box[0], box[1]), (box[2], box[3]), (0, 255, 0), 2)\n",
        "        cv2.putText(image, f\"{label_dict[predicted_labels[i]]}: {scores[i]:.2f}\",\n",
        "                    (box[0], box[1] - 10), cv2.FONT_HERSHEY_SIMPLEX, 1, (0, 255, 0), 2)\n",
        "    plt.imshow(image)\n",
        "    plt.show()"
      ],
      "metadata": {
        "id": "1luQsKaKdfKC"
      },
      "execution_count": 11,
      "outputs": []
    },
    {
      "cell_type": "code",
      "source": [
        "# Predict bounding boxes and labels for a sample image\n",
        "sample_image = X_test[0]  # Example: Taking the first image from the test set\n",
        "predicted_bbox, predicted_class = model.predict(np.expand_dims(sample_image, axis=0))\n",
        "predicted_class = np.argmax(predicted_class, axis=1)\n",
        "\n",
        "# Visualize the result\n",
        "label_dict = {0: 'car', 1: 'truck', 2: 'bus'}  # Modify based on your labels\n",
        "visualize_boxes(sample_image, predicted_bbox[0], predicted_class, predicted_class, label_dict)"
      ],
      "metadata": {
        "id": "-eCe_LM5djWm"
      },
      "execution_count": null,
      "outputs": []
    },
    {
      "cell_type": "code",
      "source": [
        "# Step 9: Compute IoU (Intersection over Union)\n",
        "\n",
        "def calculate_iou(pred_bbox, true_bbox):\n",
        "    xi1 = max(pred_bbox[0], true_bbox[0])\n",
        "    yi1 = max(pred_bbox[1], true_bbox[1])\n",
        "    xi2 = min(pred_bbox[2], true_bbox[2])\n",
        "    yi2 = min(pred_bbox[3], true_bbox[3])\n",
        "\n",
        "    intersection = max(0, xi2 - xi1) * max(0, yi2 - yi1)\n",
        "    pred_area = (pred_bbox[2] - pred_bbox[0]) * (pred_bbox[3] - pred_bbox[1])\n",
        "    true_area = (true_bbox[2] - true_bbox[0]) * (true_bbox[3] - true_bbox[1])\n",
        "\n",
        "    union = pred_area + true_area - intersection\n",
        "    iou = intersection / union if union != 0 else 0\n",
        "    return iou\n"
      ],
      "metadata": {
        "id": "86ZRmAz1doZn"
      },
      "execution_count": 13,
      "outputs": []
    },
    {
      "cell_type": "code",
      "source": [
        "# Calculate mAP (Mean Average Precision)\n",
        "\n",
        "def compute_map(pred_boxes, true_boxes, pred_labels, true_labels, iou_threshold=0.5):\n",
        "    iou_list = []\n",
        "    for p_bbox, t_bbox in zip(pred_boxes, true_boxes):\n",
        "        iou = calculate_iou(p_bbox, t_bbox)\n",
        "        iou_list.append(iou >= iou_threshold)\n",
        "    mAP = np.mean(iou_list)\n",
        "    return mAP"
      ],
      "metadata": {
        "id": "vqX3JX7eeCqt"
      },
      "execution_count": 14,
      "outputs": []
    },
    {
      "cell_type": "code",
      "source": [
        "# Example for computing IoU and mAP\n",
        "predicted_boxes = predicted_bbox\n",
        "true_boxes = boxes[0]  # True boxes for the first image\n",
        "mAP = compute_map(predicted_boxes, true_boxes, predicted_class, y_test)\n",
        "print(f\"mAP: {mAP:.4f}\")"
      ],
      "metadata": {
        "id": "EiiWQOWCeIDV"
      },
      "execution_count": null,
      "outputs": []
    },
    {
      "cell_type": "markdown",
      "source": [
        "Part 2 of capstone project eda od tesla deaths"
      ],
      "metadata": {
        "id": "JyHsuyFwKMod"
      }
    },
    {
      "cell_type": "code",
      "source": [
        "\n",
        "import pandas as pd\n",
        "df = pd.read_csv(\"tesla death data refined.csv\")\n",
        "print(df.head())\n",
        "\n",
        ""
      ],
      "metadata": {
        "colab": {
          "base_uri": "https://localhost:8080/"
        },
        "id": "WKo0ys4ZKJcl",
        "outputId": "8bdf1099-5bd2-4ab6-cf24-c5152fcd9156"
      },
      "execution_count": 49,
      "outputs": [
        {
          "output_type": "stream",
          "name": "stdout",
          "text": [
            "   Case id    Year        Date  Country   State   \\\n",
            "0    294.0  2022.0   1/17/2023      USA       CA   \n",
            "1    293.0  2022.0    1/7/2023   Canada        -   \n",
            "2    292.0  2022.0    1/7/2023      USA       WA   \n",
            "3    291.0  2022.0  12/22/2022      USA       GA   \n",
            "4    290.0  2022.0  12/19/2022   Canada        -   \n",
            "\n",
            "                         Description    Deaths   Tesla driver   \\\n",
            "0    Tesla crashes into back of semi        1.0              1   \n",
            "1                      Tesla crashes        1.0              1   \n",
            "2   Tesla hits pole, catches on fire        1.0             -    \n",
            "3            Tesla crashes and burns        1.0              1   \n",
            "4      Tesla crashes into storefront        1.0             -    \n",
            "\n",
            "   Tesla occupant   Other vehicle   ...  Verified Tesla Autopilot Deaths   \\\n",
            "0               -               -   ...                                -    \n",
            "1               -               -   ...                                -    \n",
            "2                1              -   ...                                -    \n",
            "3               -               -   ...                                -    \n",
            "4               -               -   ...                                -    \n",
            "\n",
            "  Sum of  Verified Tesla Autopilot Deaths and All Deaths Reported to NHTSA SGO   \\\n",
            "0                                                 -                               \n",
            "1                                                 -                               \n",
            "2                                                 -                               \n",
            "3                                                 -                               \n",
            "4                                                 -                               \n",
            "\n",
            "                                         Unnamed: 16  \\\n",
            "0   https://web.archive.org/web/20221222203930/ht...   \n",
            "1   https://web.archive.org/web/20221222203930/ht...   \n",
            "2   https://web.archive.org/web/20221222203930/ht...   \n",
            "3   https://web.archive.org/web/20221222203930/ht...   \n",
            "4   https://web.archive.org/web/20221223203725/ht...   \n",
            "\n",
            "                                         Unnamed: 17  \\\n",
            "0   https://web.archive.org/web/20221222203930/ht...   \n",
            "1   https://web.archive.org/web/20221222203930/ht...   \n",
            "2   https://web.archive.org/web/20221222203930/ht...   \n",
            "3   https://web.archive.org/web/20221222203930/ht...   \n",
            "4   https://web.archive.org/web/20221223203725/ht...   \n",
            "\n",
            "                                             Source   Note   \\\n",
            "0   https://web.archive.org/web/20230118162813/ht...    NaN   \n",
            "1   https://web.archive.org/web/20230109041434/ht...    NaN   \n",
            "2   https://web.archive.org/web/20230107232745/ht...    NaN   \n",
            "3   https://web.archive.org/web/20221222203930/ht...    NaN   \n",
            "4   https://web.archive.org/web/20221223203725/ht...    NaN   \n",
            "\n",
            "         Deceased 1   Deceased 2   Deceased 3   Deceased 4   \n",
            "0                NaN          NaN          NaN          NaN  \n",
            "1   Taren Singh Lal           NaN          NaN          NaN  \n",
            "2                NaN          NaN          NaN          NaN  \n",
            "3                NaN          NaN          NaN          NaN  \n",
            "4                NaN          NaN          NaN          NaN  \n",
            "\n",
            "[5 rows x 24 columns]\n"
          ]
        }
      ]
    },
    {
      "cell_type": "code",
      "source": [
        "print(df.dtypes)\n",
        "\n"
      ],
      "metadata": {
        "id": "VsE3FAkEUFYe",
        "outputId": "97716b20-7ff6-4d0c-83e6-d306bcee7445",
        "colab": {
          "base_uri": "https://localhost:8080/"
        }
      },
      "execution_count": 52,
      "outputs": [
        {
          "output_type": "stream",
          "name": "stdout",
          "text": [
            "Case id                                                                          float64\n",
            "Year                                                                             float64\n",
            "Date                                                                              object\n",
            " Country                                                                          object\n",
            " State                                                                            object\n",
            " Description                                                                      object\n",
            " Deaths                                                                          float64\n",
            " Tesla driver                                                                     object\n",
            " Tesla occupant                                                                   object\n",
            " Other vehicle                                                                    object\n",
            " Cyclists or Peds                                                                 object\n",
            " TSLA+cycl / peds                                                                 object\n",
            " Model                                                                            object\n",
            " Autopilot claimed                                                                object\n",
            " Verified Tesla Autopilot Deaths                                                  object\n",
            "Sum of  Verified Tesla Autopilot Deaths and All Deaths Reported to NHTSA SGO      object\n",
            "Unnamed: 16                                                                       object\n",
            "Unnamed: 17                                                                       object\n",
            " Source                                                                           object\n",
            " Note                                                                             object\n",
            " Deceased 1                                                                       object\n",
            " Deceased 2                                                                       object\n",
            " Deceased 3                                                                       object\n",
            " Deceased 4                                                                      float64\n",
            "dtype: object\n"
          ]
        }
      ]
    },
    {
      "cell_type": "code",
      "source": [
        "import pandas as pd\n",
        "import matplotlib.pyplot as plt\n",
        "import seaborn as sns\n",
        "\n",
        "# Load the CSV file\n",
        "data = pd.read_csv('tesla_accidents.csv')\n",
        "\n",
        "# Select the relevant columns\n",
        "columns_to_keep = [\n",
        "    'Year',\n",
        "    'Country',\n",
        "    'State',\n",
        "    'Deaths',\n",
        "    'Tesla driver',\n",
        "    'Tesla occupant',\n",
        "    'Other vehicle',\n",
        "    'Cyclists or Peds',\n",
        "    'TSLA+cycl / peds',\n",
        "    'Verified Tesla Autopilot Deaths',\n",
        "    'Sum of Verified Tesla Autopilot Deaths and All Deaths Reported to NHTSA SGO'\n",
        "]\n",
        "\n",
        "filtered_data = data[columns_to_keep]\n",
        "\n",
        "# Drop duplicate rows\n",
        "filtered_data = filtered_data.drop_duplicates()\n",
        "\n",
        "# Drop rows with null values\n",
        "filtered_data = filtered_data.dropna()\n",
        "\n",
        "# Replace '-' in float and integer type data with 0\n",
        "float_int_columns = filtered_data.select_dtypes(include=['float64', 'int64']).columns\n",
        "filtered_data[float_int_columns] = filtered_data[float_int_columns].replace('-', 0)\n",
        "\n",
        "# Replace '-' in string/object type data with 'unknown'\n",
        "object_columns = filtered_data.select_dtypes(include=['object']).columns\n",
        "filtered_data[object_columns] = filtered_data[object_columns].replace('-', 'unknown')\n",
        "\n",
        "# Exploratory Data Analysis\n",
        "\n",
        "# a. Number of events by date, per year, and per day for each state and country\n",
        "events_per_year = filtered_data.groupby('Year').size()\n",
        "events_per_state = filtered_data.groupby('State').size()\n",
        "events_per_country = filtered_data.groupby('Country').size()\n",
        "\n",
        "# Plotting the number of events per year\n",
        "plt.figure(figsize=(12, 6))\n",
        "sns.countplot(data=filtered_data, x='Year')\n",
        "plt.title('Number of Events by Year')\n",
        "plt.xticks(rotation=45)\n",
        "plt.xlabel('Year')\n",
        "plt.ylabel('Number of Events')\n",
        "plt.show()\n",
        "\n",
        "# b. Analyze different aspects of the death events\n",
        "# Number of victims (deaths) in each accident\n",
        "average_deaths_per_event = filtered_data['Deaths'].mean()\n",
        "print(f'Average number of deaths per event: {average_deaths_per_event}')\n",
        "\n",
        "# How many times did Tesla drivers die?\n",
        "tesla_driver_deaths = filtered_data['Tesla driver'].sum()\n",
        "print(f'Total deaths of Tesla drivers: {tesla_driver_deaths}')\n",
        "\n",
        "# Proportion of events in which one or more occupants died\n",
        "occupant_deaths = filtered_data['Tesla occupant'].sum()\n",
        "total_events = filtered_data.shape[0]\n",
        "proportion_occupant_deaths = occupant_deaths / total_events\n",
        "print(f'Proportion of events with occupant deaths: {proportion_occupant_deaths:.2%}')\n",
        "\n",
        "# Distribution of events in which the vehicle hit a cyclist or pedestrian\n",
        "cyclist_pedestrian_events = filtered_data['Cyclists or Peds'].sum()\n",
        "print(f'Total events involving cyclists or pedestrians: {cyclist_pedestrian_events}')\n",
        "\n",
        "# Accidents involving the death of a Tesla occupant or driver along with a cyclist or pedestrian\n",
        "tesla_and_cyclist_events = filtered_data[(filtered_data['Tesla driver'] > 0) | (filtered_data['Tesla occupant'] > 0) & (filtered_data['Cyclists or Peds'] > 0)]\n",
        "tesla_and_cyclist_count = tesla_and_cyclist_events.shape[0]\n",
        "print(f'Total events involving Tesla occupants/drivers and cyclists/pedestrians: {tesla_and_cyclist_count}')\n",
        "\n",
        "# Frequency of Tesla colliding with other vehicles\n",
        "tesla_collisions = filtered_data['Other vehicle'].sum()\n",
        "print(f'Total Tesla collisions with other vehicles: {tesla_collisions}')\n",
        "\n",
        "# c. Study the event distribution across models (assuming a 'Model' column exists)\n",
        "# If you have a 'Model' column, uncomment the following lines\n",
        "# model_distribution = filtered_data['Model'].value_counts()\n",
        "# print(model_distribution)\n",
        "\n",
        "# d. Check the distribution of verified Tesla autopilot deaths\n",
        "plt.figure(figsize=(12, 6))\n",
        "sns.histplot(filtered_data['Verified Tesla Autopilot Deaths'], bins=30, kde=True)\n",
        "plt.title('Distribution of Verified Tesla Autopilot Deaths')\n",
        "plt.xlabel('Verified Tesla Autopilot Deaths')\n",
        "plt.ylabel('Frequency')\n",
        "plt.show()"
      ],
      "metadata": {
        "id": "VEXTXL3Mxrdm"
      },
      "execution_count": null,
      "outputs": []
    }
  ]
}